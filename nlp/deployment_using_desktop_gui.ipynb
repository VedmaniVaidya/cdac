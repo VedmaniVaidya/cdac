{
 "cells": [
  {
   "cell_type": "code",
   "execution_count": 2,
   "metadata": {},
   "outputs": [],
   "source": [
    "from tkinter import *"
   ]
  },
  {
   "cell_type": "code",
   "execution_count": 4,
   "metadata": {},
   "outputs": [],
   "source": [
    "top = Tk()\n",
    "top.title(\"My First Application\")\n",
    "top.geometry('400x300')\n",
    "\n",
    "l = Label(top,text=\"Hello World\")\n",
    "t = Entry(top)\n",
    "b = Button(top,text=\"SUbmit\")\n",
    "\n",
    "l.pack()\n",
    "t.pack()\n",
    "b.pack()\n",
    "\n",
    "top.mainloop()"
   ]
  },
  {
   "cell_type": "markdown",
   "metadata": {},
   "source": [
    "## Event Handling"
   ]
  },
  {
   "cell_type": "code",
   "execution_count": null,
   "metadata": {},
   "outputs": [],
   "source": [
    "top = Tk()\n",
    "top.title(\"My First Application\")\n",
    "top.geometry('400x300')\n",
    "\n",
    "def find():\n",
    "    n = num.get()\n",
    "    result.config(text='Square is: %d' %(n * n))\n",
    "\n",
    "num = IntVar()\n",
    "\n",
    "Label(top,text=\"Hello World\").place(x=50,y=30)\n",
    "t = Entry(top,textvariable=num)\n",
    "t.bind('<Return>',find)\n",
    "result = Label(text=\"Find Square\")\n",
    "\n",
    "t.place(x=50,y=60)\n",
    "result.place(x=50,y=90)\n",
    "\n",
    "top.mainloop()"
   ]
  },
  {
   "cell_type": "code",
   "execution_count": null,
   "metadata": {},
   "outputs": [],
   "source": [
    "top = Tk()\n",
    "top.title(\"My First Application\")\n",
    "top.geometry('400x300')\n",
    "\n",
    "num1 = IntVar()\n",
    "num2 = IntVar()\n",
    "\n",
    "\n",
    "def find():\n",
    "    n = num.get()\n",
    "    result.config(text='Square is: %d' %(n * n))\n",
    "\n",
    "def division(event):\n",
    "    n1 = num1.get()\n",
    "    n2 = num2.get()\n",
    "    result.config(text = f\"division is: {n1/n2}\")\n",
    "\n",
    "def subtract(event):\n",
    "    n1 = num1.get()\n",
    "    n2 = num2.get()\n",
    "    result.config(text= f\"subtraction is: {n1-n2}\")\n",
    "\n",
    "def addition(event):\n",
    "    n1 = num1.get()\n",
    "    n2 = num2.get()\n",
    "    result.config(text= f\"addition is: {n1+n2}\")\n",
    "\n",
    "def multiplication(event):\n",
    "    n1 = num1.get()\n",
    "    n2 = num2.get()\n",
    "    result.config(text= f\"multiplication is: {n1*n2}\")\n",
    "\n",
    "\n",
    "label1 = Label(top,text=\"Number 1\")\n",
    "label1.place(x=30,y=30)\n",
    "\n",
    "label2 = Label(top,text=\"Number 2\")\n",
    "label2.place(x=100,y=30)\n",
    "\n",
    "\n",
    "entry1 = Entry(top,textvariable=num)\n",
    "entry1.bind('<Return>',find)\n",
    "entry1.place(x=100,y=30)\n",
    "\n",
    "entry2 = Entry(top,textvariable=num)\n",
    "entry2.bind('<Return>',find)\n",
    "entry2.place(x=)\n",
    "\n",
    "\n",
    "\n",
    "t.place(x=50,y=60)\n",
    "result.place(x=50,y=90)\n",
    "\n",
    "top.mainloop()"
   ]
  },
  {
   "cell_type": "code",
   "execution_count": 21,
   "metadata": {},
   "outputs": [],
   "source": [
    "import joblib\n",
    "from nltk.stem import WordNetLemmatizer\n",
    "from nltk import word_tokenize\n",
    "from nltk import pos_tag\n",
    "from nltk.corpus import stopwords\n",
    "from nltk.stem import LancasterStemmer\n",
    "import string"
   ]
  },
  {
   "cell_type": "code",
   "execution_count": 22,
   "metadata": {},
   "outputs": [
    {
     "data": {
      "text/plain": [
       "['visit', 'gorund', 'play']"
      ]
     },
     "execution_count": 22,
     "metadata": {},
     "output_type": "execute_result"
    }
   ],
   "source": [
    "punctuations = string.punctuation\n",
    "stopword = stopwords.words('english')\n",
    "ls = LancasterStemmer()\n",
    "wnl = WordNetLemmatizer()\n",
    "\n",
    "def clean_text(text):\n",
    "    tokens1 = word_tokenize(text)\n",
    "    tokens2 = [x.lower() for x in tokens1 if x not in punctuations]\n",
    "    tokens3 = [ls.stem(x) for x in tokens2 if x not in stopword]\n",
    "\n",
    "    tokens4 = []\n",
    "    tags = pos_tag(tokens3)\n",
    "    for word in tags:\n",
    "        if word[1].startswith('N'):\n",
    "            tokens4.append(wnl.lemmatize(word[0], pos='n'))\n",
    "        if word[1].startswith('V'):\n",
    "            tokens4.append(wnl.lemmatize(word[0], pos='v'))\n",
    "        if word[1].startswith('R'):\n",
    "            tokens4.append(wnl.lemmatize(word[0], pos='r'))    \n",
    "        if word[1].startswith('J'):\n",
    "            tokens4.append(wnl.lemmatize(word[0], pos='a'))\n",
    "\n",
    "    return tokens4\n",
    "sent = \"When we visited the gorund no on was playing.\"\n",
    "clean_text(sent)"
   ]
  },
  {
   "cell_type": "code",
   "execution_count": 23,
   "metadata": {},
   "outputs": [],
   "source": [
    "\n",
    "\n",
    "tfidf = joblib.load('vectorizer.bin')"
   ]
  },
  {
   "cell_type": "code",
   "execution_count": 24,
   "metadata": {},
   "outputs": [],
   "source": [
    "model = joblib.load('model.bin')"
   ]
  },
  {
   "cell_type": "code",
   "execution_count": 29,
   "metadata": {},
   "outputs": [
    {
     "data": {
      "text/plain": [
       "<KeyPress event state=Mod2 keysym=Return keycode=36 char='\\r' x=465 y=26>"
      ]
     },
     "metadata": {},
     "output_type": "display_data"
    }
   ],
   "source": [
    "top = Tk()\n",
    "def disply(event):\n",
    "    global message\n",
    "    message1 = message.get()\n",
    "    message1 = tfidf.transform([message])\n",
    "    result = model.predict(message1)[0]\n",
    "    if result =='ham':\n",
    "        Label(text='Not Spam Message...').place(x=100,y=200)\n",
    "    else:\n",
    "        Label(text='Spam Message!!!!!.').place(x=100,y=200)\n",
    "\n",
    "message = StringVar()\n",
    "Label(top,text=\"Enter message: \").place(x=50,y=50)\n",
    "e = Entry(top, width=100, textvariable = message)\n",
    "e.place(x=200,y=50)\n",
    "e.bind('<Return>',display)\n",
    "top.title('..SPAM MESSAGE DETECTOR..')\n",
    "top.geometry('1200x300')\n",
    "top.mainloop()\n",
    "        "
   ]
  },
  {
   "cell_type": "code",
   "execution_count": 26,
   "metadata": {},
   "outputs": [],
   "source": [
    "message = \"good movie\"\n",
    "message = tfidf.transform([message])\n",
    "result = model.predict(message)[0]"
   ]
  },
  {
   "cell_type": "code",
   "execution_count": 27,
   "metadata": {},
   "outputs": [
    {
     "data": {
      "text/plain": [
       "'ham'"
      ]
     },
     "execution_count": 27,
     "metadata": {},
     "output_type": "execute_result"
    }
   ],
   "source": [
    "result"
   ]
  },
  {
   "cell_type": "code",
   "execution_count": null,
   "metadata": {},
   "outputs": [],
   "source": []
  }
 ],
 "metadata": {
  "kernelspec": {
   "display_name": "base",
   "language": "python",
   "name": "python3"
  },
  "language_info": {
   "codemirror_mode": {
    "name": "ipython",
    "version": 3
   },
   "file_extension": ".py",
   "mimetype": "text/x-python",
   "name": "python",
   "nbconvert_exporter": "python",
   "pygments_lexer": "ipython3",
   "version": "3.11.4"
  }
 },
 "nbformat": 4,
 "nbformat_minor": 2
}
